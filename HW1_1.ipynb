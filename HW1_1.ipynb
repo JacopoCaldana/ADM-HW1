{
 "cells": [
  {
   "cell_type": "code",
   "execution_count": null,
   "id": "4b444f2a-f3aa-4caa-a0cb-ccb64677e2a2",
   "metadata": {},
   "outputs": [],
   "source": [
    "#Say,Hello\n",
    "if __name__ == '__main__':\n",
    "    print(\"Hello, World! \")"
   ]
  },
  {
   "cell_type": "code",
   "execution_count": null,
   "id": "bda3f965-6d72-47fd-871f-f1136ab62f1f",
   "metadata": {},
   "outputs": [],
   "source": [
    "#Python If-Else\n",
    "import math\n",
    "import os\n",
    "import random\n",
    "import re\n",
    "import sys\n",
    "\n",
    "\n",
    "\n",
    "if __name__ == '__main__':\n",
    "    n = int(input().strip())\n",
    "if n%2!=0:\n",
    "    print(\"Weird\")\n",
    "if n%2==0:\n",
    "   if n in range(2,5):\n",
    "       print(\"Not Weird\")\n",
    "   if n in range(6,21):\n",
    "       print(\"Weird\")\n",
    "   if n>20:\n",
    "        print(\"Not Weird\")      "
   ]
  },
  {
   "cell_type": "code",
   "execution_count": null,
   "id": "5a38f8ba-876f-4f87-ac64-7feb636a8312",
   "metadata": {},
   "outputs": [],
   "source": [
    "#Arithmetic Operators\n",
    "if __name__ == '__main__':\n",
    "    a = int(input())\n",
    "    b = int(input())\n",
    "print(a+b)\n",
    "print(a-b)\n",
    "print(a*b)"
   ]
  },
  {
   "cell_type": "code",
   "execution_count": null,
   "id": "b358d5aa-fd89-4a46-a737-64351fe455ac",
   "metadata": {},
   "outputs": [],
   "source": [
    "#Python Division\n",
    "if __name__ == '__main__':\n",
    "    a = int(input())\n",
    "    b = int(input())\n",
    "print(a//b)\n",
    "print(float(a)/float(b))\n"
   ]
  },
  {
   "cell_type": "code",
   "execution_count": null,
   "id": "4946d81c-c233-4e90-a96c-295eed001f32",
   "metadata": {},
   "outputs": [],
   "source": [
    "#Python loops\n",
    "if __name__ == '__main__':\n",
    "    n = int(input())\n",
    "for i in range(0,n):\n",
    "    print(i**2)\n"
   ]
  },
  {
   "cell_type": "code",
   "execution_count": null,
   "id": "e7a0507b-c75d-404d-a902-05ff35dfed0d",
   "metadata": {},
   "outputs": [],
   "source": [
    "#Write a Function\n",
    "def is_leap(year):\n",
    "    leap = False\n",
    "    if (year % 4 == 0 and year % 100 != 0) or (year % 400 == 0):\n",
    "        return True\n",
    "    else:\n",
    "        return False\n",
    "    return leap\n"
   ]
  },
  {
   "cell_type": "code",
   "execution_count": null,
   "id": "a7d59f9d-b394-4378-abaf-7a7616458bb0",
   "metadata": {},
   "outputs": [],
   "source": [
    "#print function\n",
    "if __name__ == '__main__':\n",
    "    n = int(input())\n",
    "    for i in range(1,n+1):\n",
    "       print(i,end=\"\")\n"
   ]
  },
  {
   "cell_type": "code",
   "execution_count": null,
   "id": "3ffad961-0780-463e-8d23-2db605b2ab33",
   "metadata": {},
   "outputs": [],
   "source": [
    "#List Comprehensions\n",
    "if __name__ == '__main__':\n",
    "    x = int(input())\n",
    "    y = int(input())\n",
    "    z = int(input())\n",
    "    n = int(input())\n",
    "    l=[[i,j,k] for i in range(x+1) for j in range(y+1) for k in range(z+1) if i+j+k!=n]\n",
    "    print(l)"
   ]
  },
  {
   "cell_type": "code",
   "execution_count": null,
   "id": "8f79df3f-c46a-4e11-abf5-7be1cd41ea09",
   "metadata": {},
   "outputs": [],
   "source": [
    "#Find the Runner-Up Score!\n",
    "if __name__ == '__main__':\n",
    "    n = int(input())\n",
    "    arr = map(int, input().split())\n",
    "    s=list(arr)\n",
    "    s_clean=[]\n",
    "    for x in s:\n",
    "       if x not in s_clean:\n",
    "         s_clean.append(x)\n",
    "    s_sorted=sorted(s_clean)\n",
    "    print(s_sorted[-2])\n",
    "        "
   ]
  },
  {
   "cell_type": "code",
   "execution_count": null,
   "id": "dbe5203b-f5f0-426c-9b0f-d8179ec9ef43",
   "metadata": {},
   "outputs": [],
   "source": [
    "#Nested Lists\n",
    "if __name__ == '__main__':\n",
    "    students=[]\n",
    "    for _ in range(int(input())):\n",
    "        name = input()\n",
    "        score = float(input())\n",
    "        students.append([name, score])\n",
    "    u_scores=set(student[1] for student in students)\n",
    "    ordered_scores=sorted(u_scores)\n",
    "    s_l_score=ordered_scores[1]\n",
    "    s_l_students = [student[0] for student in students if student[1] == s_l_score]\n",
    "    sorted_s_l=sorted(s_l_students)\n",
    "    for name in sorted_s_l:\n",
    "        print(name)"
   ]
  },
  {
   "cell_type": "code",
   "execution_count": null,
   "id": "6a657d11-f30d-4d52-9f77-d78510cba845",
   "metadata": {},
   "outputs": [],
   "source": [
    "#Finding the percentage\n",
    "if __name__ == '__main__':\n",
    "    n = int(input())\n",
    "    student_marks = {}\n",
    "    for _ in range(n):\n",
    "        name, *line = input().split()\n",
    "        scores = list(map(float, line))\n",
    "        student_marks[name] = scores\n",
    "    query_name = input()\n",
    "    if query_name in student_marks:\n",
    "        average=sum(student_marks[query_name])/len(student_marks[query_name])\n",
    "        print(\"%.2f\" % average)"
   ]
  },
  {
   "cell_type": "code",
   "execution_count": null,
   "id": "97909fd9-e927-400a-af9a-f815d3980c7f",
   "metadata": {},
   "outputs": [],
   "source": [
    "#Tuples\n",
    "if __name__ == '__main__':\n",
    "    n = int(input())\n",
    "    integer_list = map(int, input().split())\n",
    "    t=tuple(integer_list)\n",
    "    print(hash(t))"
   ]
  },
  {
   "cell_type": "code",
   "execution_count": null,
   "id": "3774a1d9-ba17-4080-9d02-113de08cd04a",
   "metadata": {},
   "outputs": [],
   "source": [
    "#Lists\n",
    "if __name__ == '__main__':\n",
    "    N = int(input())\n",
    "    l=[]\n",
    "    for _ in range(N):\n",
    "       command = input().strip().split()\n",
    "       if command[0] == \"insert\":\n",
    "        l.insert(int(command[1]), int(command[2]))\n",
    "       elif command[0] == \"print\":\n",
    "        print(l)\n",
    "       elif command[0] == \"remove\":\n",
    "        l.remove(int(command[1]))\n",
    "       elif command[0] == \"append\":\n",
    "        l.append(int(command[1]))\n",
    "       elif command[0] == \"sort\":\n",
    "        l.sort()\n",
    "       elif command[0] == \"pop\":\n",
    "        l.pop()\n",
    "       elif command[0] == \"reverse\":\n",
    "        l.reverse()"
   ]
  },
  {
   "cell_type": "code",
   "execution_count": null,
   "id": "197aec75-948c-42bd-a108-7be0da3c44e6",
   "metadata": {},
   "outputs": [],
   "source": [
    "#sWAP cASE\n",
    "def swap_case(s):\n",
    "    modified = \"\"\n",
    "    for x in s:\n",
    "        if x.islower():\n",
    "            modified += x.upper()\n",
    "        elif x.isupper():\n",
    "            modified += x.lower()\n",
    "        else:\n",
    "            modified += x\n",
    "            \n",
    "    return modified\n",
    "\n",
    "if __name__ == '__main__':\n",
    "    s = input()\n",
    "    result = swap_case(s)\n",
    "    print(result)"
   ]
  },
  {
   "cell_type": "code",
   "execution_count": null,
   "id": "a3eaa7fb-32e3-4f58-9279-77206189526f",
   "metadata": {},
   "outputs": [],
   "source": [
    "#String Split and Join\n",
    "def split_and_join(line):\n",
    "    l=line.split(\" \")\n",
    "    j=\"-\".join(l)\n",
    "    return j\n",
    "    \n",
    "    \n",
    "if __name__ == '__main__':\n",
    "    line = input()\n",
    "    result = split_and_join(line)\n",
    "    print(result)"
   ]
  },
  {
   "cell_type": "code",
   "execution_count": null,
   "id": "503b39de-67b0-4c8d-8d3a-64c07ba8477f",
   "metadata": {},
   "outputs": [],
   "source": [
    "#What's Your Name?\n",
    "def print_full_name(first, last):\n",
    "    print(f\"Hello {first} {last}! You just delved into python.\")\n",
    "\n",
    "if __name__ == '__main__':\n",
    "    first_name = input()\n",
    "    last_name = input()\n",
    "    print_full_name(first_name, last_name)"
   ]
  },
  {
   "cell_type": "code",
   "execution_count": null,
   "id": "08227b4e-c30e-46f1-9852-60250969888e",
   "metadata": {},
   "outputs": [],
   "source": [
    "#Mutations\n",
    "def mutate_string(string, position, character):\n",
    "    l=list(string)\n",
    "    l[int(position)]=f\"{character}\"\n",
    "    s=\"\".join(l)\n",
    "    return s\n",
    "\n",
    "if __name__ == '__main__':\n",
    "    s = input()\n",
    "    i, c = input().split()\n",
    "    s_new = mutate_string(s, int(i), c)\n",
    "    print(s_new)"
   ]
  },
  {
   "cell_type": "code",
   "execution_count": null,
   "id": "b6a3745b-c0f6-4d2e-96b0-b4e3cab4c8ed",
   "metadata": {},
   "outputs": [],
   "source": [
    "#Find a string\n",
    "def count_substring(string, sub_string):\n",
    "    n=0\n",
    "    for i in range(len(string)-len(sub_string)+1):\n",
    "        if string[i:i+len(sub_string)]== sub_string:\n",
    "            n+=1\n",
    "    return n\n",
    "\n",
    "if __name__ == '__main__':\n",
    "    string = input().strip()\n",
    "    sub_string = input().strip()\n",
    "    \n",
    "    count = count_substring(string, sub_string)\n",
    "    print(count)"
   ]
  },
  {
   "cell_type": "code",
   "execution_count": null,
   "id": "b781209d-b31a-4054-950a-f277a8502df2",
   "metadata": {},
   "outputs": [],
   "source": [
    "#String Validators\n",
    "if __name__ == '__main__':\n",
    "    s = input()\n",
    "    print(any(x.isalnum() for x in s))      \n",
    "    print(any(x.isalpha() for x in s))      \n",
    "    print(any(x.isdigit() for x in s))      \n",
    "    print(any(x.islower() for x in s))      \n",
    "    print(any(x.isupper() for x in s))"
   ]
  },
  {
   "cell_type": "code",
   "execution_count": null,
   "id": "cb7e4291-d6d6-4d2f-9303-1b4e69b7a169",
   "metadata": {},
   "outputs": [],
   "source": [
    "#Text Wrap\n",
    "import textwrap\n",
    "\n",
    "def wrap(string, max_width):\n",
    "    wrapped= textwrap.fill(string,int(max_width))\n",
    "    return wrapped\n",
    "\n",
    "if __name__ == '__main__':\n",
    "    string, max_width = input(), int(input())\n",
    "    result = wrap(string, max_width)\n",
    "    print(result)"
   ]
  },
  {
   "cell_type": "code",
   "execution_count": null,
   "id": "de413c1d-142b-4bed-961c-1b155c9d59ef",
   "metadata": {},
   "outputs": [],
   "source": [
    "#String formatting\n",
    "def print_formatted(number):\n",
    "    width=len(bin(number)[2:])\n",
    "    for i in range(1, number + 1):\n",
    "        d = str(i).rjust(width)\n",
    "        o = oct(i)[2:].rjust(width)\n",
    "        h = hex(i)[2:].upper().rjust(width)\n",
    "        b = bin(i)[2:].rjust(width) \n",
    "        print(d, o, h, b)\n",
    "\n",
    "\n",
    "if __name__ == '__main__':\n",
    "    n = int(input())\n",
    "    print_formatted(n)"
   ]
  },
  {
   "cell_type": "code",
   "execution_count": null,
   "id": "771dd70f-f5dd-4daa-a953-f4243cccbd0d",
   "metadata": {},
   "outputs": [],
   "source": [
    "#Text Alignment\n",
    "thickness = int(input())\n",
    "c = 'H'  \n",
    "\n",
    "\n",
    "for i in range(thickness):\n",
    "    print((c * (2 * i + 1)).center(thickness * 2 - 1,' '))\n",
    "for i in range(thickness + 1):\n",
    "    print((c * thickness).center(thickness * 2)+(c * thickness).center(thickness *6))\n",
    "for i in range((thickness + 1) // 2):\n",
    "    print((c * (thickness * 5)).center(thickness *6))\n",
    "for i in range(thickness + 1):\n",
    "    print((c * thickness).center(thickness * 2)+(c * thickness).center(thickness * 6))\n",
    "for i in range(thickness - 1, -1, -1):\n",
    "    print((c * (2 * i + 1)).center(thickness * 10))\n"
   ]
  },
  {
   "cell_type": "code",
   "execution_count": null,
   "id": "891b746e-86e3-4739-b935-58d5d62b0223",
   "metadata": {},
   "outputs": [],
   "source": [
    "#Write a function\n",
    "def is_leap(year):\n",
    "    leap = False\n",
    "    if (year % 4 == 0 and year % 100 != 0) or (year % 400 == 0):\n",
    "        return True\n",
    "    else:\n",
    "        return False\n",
    "    return leap\n"
   ]
  },
  {
   "cell_type": "code",
   "execution_count": null,
   "id": "663316b4-59d4-4919-a18e-dffec1685c1c",
   "metadata": {},
   "outputs": [],
   "source": [
    "#Designer Door Mat\n",
    "N,M=map(int, input().split())\n",
    "pattern = '.|.'\n",
    "for i in range(N// 2):\n",
    "    print((pattern * (2 * i + 1)).center(M, '-'))\n",
    "print('WELCOME'.center(M, '-'))\n",
    "for i in range(N // 2 - 1, -1, -1):\n",
    "    print((pattern * (2 * i + 1)).center(M, '-'))"
   ]
  },
  {
   "cell_type": "code",
   "execution_count": null,
   "id": "c47ce1f3-eb0a-4ffa-81ae-e060f0f197f4",
   "metadata": {},
   "outputs": [],
   "source": [
    "#Alphabet Rangoli\n",
    "import string\n",
    "def print_rangoli(size):\n",
    "    import string\n",
    "    letters = string.ascii_lowercase[:size]\n",
    "    lines = []\n",
    "    for i in range(size):\n",
    "        left=letters[size-1:i:-1]\n",
    "        middle=letters[i:size]\n",
    "        line='-'.join(left+middle)\n",
    "        lines.append(line.center(4*size-3,'-'))\n",
    "    print('\\n'.join(lines[::-1]+ lines[1:]))\n"
   ]
  },
  {
   "cell_type": "code",
   "execution_count": null,
   "id": "73232b7e-bd5d-4750-a769-3bcd9474dfb2",
   "metadata": {},
   "outputs": [],
   "source": [
    "#Capitalize!\n",
    "def solve(s):\n",
    "    s = s.split(' ') #creo lista\n",
    "    for i in range(len(s)): #capitalize ogni elemento della lista\n",
    "        s[i] = s[i].capitalize()\n",
    "    return ' '.join(s)"
   ]
  },
  {
   "cell_type": "code",
   "execution_count": null,
   "id": "5094e9bb-eccc-4cbb-afe5-a36c1d93dfa7",
   "metadata": {},
   "outputs": [],
   "source": [
    "#The Minion Game\n",
    "def minion_game(string):\n",
    "   \n",
    "    l = list(string.lower())\n",
    "    stuart = 0\n",
    "    kevin = 0\n",
    "    \n",
    "    for position,letter in enumerate(l):\n",
    "        if letter in ['a','e','i','o','u']:\n",
    "            n_substrings = len(l) - position \n",
    "            kevin += n_substrings\n",
    "            no_substrings =0\n",
    "        else:\n",
    "            n_substrings = len(l) - position\n",
    "            stuart += n_substrings\n",
    "            n_substrings = 0"
   ]
  },
  {
   "cell_type": "code",
   "execution_count": null,
   "id": "bb47a6fa-a1d0-4c74-88a1-d62c4c9ebefb",
   "metadata": {},
   "outputs": [],
   "source": [
    "#Merge the Tools!\n",
    "def merge_the_tools(string, k):\n",
    "    for i in range(0, len(string), k):\n",
    "        substring = string[i:i+k]\n",
    "        seen = set()\n",
    "        result = []\n",
    "        for x in substring:\n",
    "           if x not in seen:\n",
    "              seen.add(x)\n",
    "              result.append(x)  \n",
    "        print(''.join(result))"
   ]
  },
  {
   "cell_type": "code",
   "execution_count": null,
   "id": "bdf55dbc-f804-4e0f-b120-f627f9f45859",
   "metadata": {},
   "outputs": [],
   "source": [
    "#Introduction to Sets\n",
    "def average(array):\n",
    "    # your code goes here\n",
    "    return sum(set(array))/len(set(array))"
   ]
  },
  {
   "cell_type": "code",
   "execution_count": null,
   "id": "0cc86607-3812-473a-ab92-16501434ffbf",
   "metadata": {},
   "outputs": [],
   "source": [
    "#No Idea!\n",
    "n, m = map(int, input().split())\n",
    "arr = list(map(int, input().split()))\n",
    "A = set(map(int, input().split()))\n",
    "B = set(map(int, input().split()))\n",
    "happiness=0\n",
    "for x in arr:\n",
    "    if x in A:\n",
    "        happiness+=1\n",
    "    if x in B:\n",
    "        happiness+= -1\n",
    "print(happiness)            "
   ]
  },
  {
   "cell_type": "code",
   "execution_count": null,
   "id": "c6adc31f-9c8a-4f61-87de-e26a87e7cce3",
   "metadata": {},
   "outputs": [],
   "source": [
    "#Set .add()\n",
    "N=int(input())\n",
    "s=set()\n",
    "for i in range(N):\n",
    "    s.add(input())\n",
    "print(len(s))"
   ]
  },
  {
   "cell_type": "code",
   "execution_count": null,
   "id": "43bb9359-42c9-444e-8bbd-4a8e0ec3a819",
   "metadata": {},
   "outputs": [],
   "source": [
    "#Set .discard(), .remove() & .pop()\n",
    "n = int(input())\n",
    "s = set(map(int, input().split()))\n",
    "N=int(input())\n",
    "\n",
    "for i in range(N):\n",
    "    command = list(input().split())\n",
    "    if command[0]=='pop':\n",
    "            s.pop()\n",
    "    if command[0]=='remove':\n",
    "       if int(command[1]) in s:\n",
    "          s.remove(int(command[1]))\n",
    "    if command[0]=='discard':\n",
    "        s.discard(int(command[1]))\n",
    "\n",
    "print(sum(s))"
   ]
  },
  {
   "cell_type": "code",
   "execution_count": null,
   "id": "125f69c3-8797-4fc6-b168-12d129b30bfd",
   "metadata": {},
   "outputs": [],
   "source": [
    "#Set .union() Operation\n",
    "n = int(input())\n",
    "English = set(map(int, input().split()))\n",
    "b = int(input())\n",
    "French = set(map(int, input().split()))\n",
    "print(len(English.union(French)))"
   ]
  },
  {
   "cell_type": "code",
   "execution_count": null,
   "id": "2b907597-dbf5-4fe4-9ba3-6e85fea62a4c",
   "metadata": {},
   "outputs": [],
   "source": [
    "#Set .intersection() Operation\n",
    "n = int(input())\n",
    "English = set(map(int, input().split()))\n",
    "b = int(input())\n",
    "French = set(map(int, input().split()))\n",
    "print(len(English.intersection(French)))"
   ]
  },
  {
   "cell_type": "code",
   "execution_count": null,
   "id": "c14c2f35-e22f-46dd-a95e-0c4f4ccec0d9",
   "metadata": {},
   "outputs": [],
   "source": [
    "#Set .difference() Operation\n",
    "n = int(input())\n",
    "English = set(map(int, input().split()))\n",
    "b = int(input())\n",
    "French = set(map(int, input().split()))\n",
    "print(len(English.difference(French)))"
   ]
  },
  {
   "cell_type": "code",
   "execution_count": null,
   "id": "b5ed97d0-2a32-4eaf-af17-65df3c071a93",
   "metadata": {},
   "outputs": [],
   "source": [
    "#Set .symmetric_difference() Operation\n",
    "n = int(input())\n",
    "English = set(map(int, input().split()))\n",
    "b = int(input())\n",
    "French = set(map(int, input().split()))\n",
    "print(len(English.symmetric_difference(French)))"
   ]
  },
  {
   "cell_type": "code",
   "execution_count": null,
   "id": "f04a84fe-812c-4c57-9d52-c50f353fc0e7",
   "metadata": {},
   "outputs": [],
   "source": [
    "#Set Mutations\n",
    "n = int(input())\n",
    "A = set(map(int, input().split()))\n",
    "N = int(input())\n",
    "for i in range(N):\n",
    "    command = input().split()\n",
    "    B = set(map(int, input().split()))\n",
    "    if command[0] == \"intersection_update\":\n",
    "        A.intersection_update(B)\n",
    "    elif command[0] == \"update\":\n",
    "        A.update(B)\n",
    "    elif command[0] == \"symmetric_difference_update\":\n",
    "        A.symmetric_difference_update(B)\n",
    "    elif command[0] == \"difference_update\":\n",
    "        A.difference_update(B)\n",
    "\n",
    "print(sum(A))"
   ]
  },
  {
   "cell_type": "code",
   "execution_count": null,
   "id": "0ebc0206-e513-4751-be01-5b28c9ef1c1f",
   "metadata": {},
   "outputs": [],
   "source": [
    "#The Captain's Room\n",
    "K = int(input())\n",
    "rooms = list(map(int,input().split()))\n",
    "rooms_set = set(rooms)\n",
    "captain_room = (sum(rooms_set) * K - sum(rooms)) // (K - 1)\n",
    "print(captain_room)"
   ]
  },
  {
   "cell_type": "code",
   "execution_count": null,
   "id": "b5216f05-2474-4110-a8a9-f50c107170cf",
   "metadata": {},
   "outputs": [],
   "source": [
    "#Check Subset\n",
    "T= int(input())\n",
    "\n",
    "for i in range(T):\n",
    "    n = int(input())\n",
    "    A = set(map(int, input().split()))\n",
    "    m = int(input())\n",
    "    B = set(map(int, input().split()))\n",
    "    print(A.intersection(B) == A)"
   ]
  },
  {
   "cell_type": "code",
   "execution_count": null,
   "id": "859bda7c-b731-455a-9cb3-f7050ffa4b63",
   "metadata": {},
   "outputs": [],
   "source": [
    "#Check Strict Superset\n",
    "A = set(map(int, input().split()))\n",
    "n = int(input())\n",
    "result = True\n",
    "\n",
    "for i in range(n):\n",
    "    s = set(map(int, input().split()))\n",
    "    if not (A.issuperset(s) and A != s):\n",
    "        result = False\n",
    "        break    \n",
    "print(result)"
   ]
  },
  {
   "cell_type": "code",
   "execution_count": null,
   "id": "1c444a4f-553d-4063-871b-97b4b344ccbe",
   "metadata": {},
   "outputs": [],
   "source": [
    "#collections.Counter()\n",
    "from collections import Counter\n",
    "X=int(input())\n",
    "s_counter = Counter(map(int, input().split()))\n",
    "N = int(input())\n",
    "price = 0\n",
    "for i in range(N):\n",
    "    s_size, p = map(int, input().split())\n",
    "    if s_counter[s_size]:\n",
    "        s_counter[s_size] -=1\n",
    "        price += p\n",
    "print(price)"
   ]
  },
  {
   "cell_type": "code",
   "execution_count": null,
   "id": "6f334e1a-f5cd-41dc-8c44-bad7a057385d",
   "metadata": {},
   "outputs": [],
   "source": [
    "#DefaultDict Tutorial\n",
    "from collections import defaultdict\n",
    "d = defaultdict(list)\n",
    "n, m = map(int, input().split())\n",
    "A = [str(input()) for i in range(n)]\n",
    "B = [str(input()) for i in range(m)]\n",
    "for a in A:\n",
    "    if a not in d.keys():\n",
    "        d[a].extend([index + 1 for index,value in enumerate(A) if value ==a])\n",
    "for b in B:\n",
    "    if b in d.keys():\n",
    "        print(' '.join(map(str, d[b])))\n",
    "    else:\n",
    "        print('-1')"
   ]
  },
  {
   "cell_type": "code",
   "execution_count": null,
   "id": "baba2b60-8f65-402b-9591-854e84c50f62",
   "metadata": {},
   "outputs": [],
   "source": [
    "#Collections.namedtuple()\n",
    "from collections import namedtuple\n",
    "N=int(input())\n",
    "Student=namedtuple('Student', input().split())\n",
    "marks=0\n",
    "for x in range(N):\n",
    "    s=Student(*input().split())\n",
    "    marks+=int(s.MARKS)\n",
    "print(f'{marks/N:.2f}')"
   ]
  },
  {
   "cell_type": "code",
   "execution_count": null,
   "id": "2ae67a81-577f-4622-a934-7077e1fafa1d",
   "metadata": {},
   "outputs": [],
   "source": [
    "#Collections.OrderedDict()\n",
    "from collections import OrderedDict\n",
    "N=int(input())\n",
    "d=OrderedDict()\n",
    "for i in range(N):\n",
    "     L=input().rsplit(maxsplit=1)\n",
    "     item=L[0]\n",
    "     price=int(L[1])\n",
    "     if item in d:\n",
    "         d[item]= d[item]+price \n",
    "     else: d.update({item: price})\n",
    "for x,y in d.items(): print(x,y)        "
   ]
  },
  {
   "cell_type": "code",
   "execution_count": null,
   "id": "f997165b-b775-4138-ae68-6126deb9a717",
   "metadata": {},
   "outputs": [],
   "source": [
    "#Word Order\n",
    "from collections import OrderedDict\n",
    "n=int(input())\n",
    "words=OrderedDict()\n",
    "for i in range(n):\n",
    "    w=input()\n",
    "    if w in words:\n",
    "        words[w]=words[w]+1\n",
    "    else: words[w]=1\n",
    "print(len(words))\n",
    "print(*words.values())\n"
   ]
  },
  {
   "cell_type": "code",
   "execution_count": null,
   "id": "e764cc51-694c-4519-9160-2b0ef1b1d7c2",
   "metadata": {},
   "outputs": [],
   "source": [
    "#Collections.deque()\n",
    "from collections import deque\n",
    "d=deque()\n",
    "N=int(input())\n",
    "for i in range(N):\n",
    "    l=input().split()\n",
    "    method=l[0]\n",
    "    if method == 'append':\n",
    "            d.append(l[1])\n",
    "    elif method == 'pop':\n",
    "              d.pop()\n",
    "    elif method == 'popleft':\n",
    "              d.popleft()\n",
    "    else:\n",
    "              d.appendleft(l[1])\n",
    "print(' '.join(d))"
   ]
  },
  {
   "cell_type": "code",
   "execution_count": null,
   "id": "73969531-036f-4617-b740-b4e5e610d2e4",
   "metadata": {},
   "outputs": [],
   "source": [
    "#Company Logo\n",
    "import math\n",
    "import os\n",
    "import random\n",
    "import re\n",
    "import sys\n",
    "from collections import Counter\n",
    "s= sorted(input())\n",
    "s_count = Counter(s) \n",
    "most_commons = s_count.most_common(3)\n",
    "for i in range(len(most_commons)): \n",
    "    print(most_commons[i][0], most_commons[i][1])"
   ]
  },
  {
   "cell_type": "code",
   "execution_count": null,
   "id": "26a5cf22-d7ce-4f96-9661-8b87052a7d85",
   "metadata": {},
   "outputs": [],
   "source": [
    "#Piling Up!\n",
    "T=int(input())\n",
    "for i in range(T): \n",
    "    cubes = int(input()) \n",
    "    Lengths = list(map(int, input().split())) \n",
    "    flag = \"Yes\" \n",
    "    rl = list(reversed(Lengths))\n",
    "    for i in range(1, len(Lengths)):\n",
    "        if (Lengths[0] < Lengths[i] and rl[0] < rl[i]):\n",
    "            flag = \"No\"\n",
    "            break\n",
    "    print(flag)"
   ]
  },
  {
   "cell_type": "code",
   "execution_count": null,
   "id": "5bd8d123-600d-4dba-8a1e-5ab81d099e0b",
   "metadata": {},
   "outputs": [],
   "source": [
    "#Calendar Module\n",
    "import calendar\n",
    "m, d, y = input().split()\n",
    "year = int(y) \n",
    "month = int(m) \n",
    "day = int(d)\n",
    "week_day = calendar.weekday(year, month, day) \n",
    "week_name = calendar.day_name[week_day].upper()\n",
    "print(week_name)"
   ]
  },
  {
   "cell_type": "code",
   "execution_count": null,
   "id": "9b98ae25-3c32-46b7-a4f9-dd1f235ab628",
   "metadata": {},
   "outputs": [],
   "source": [
    "#Time Delta\n",
    "import math\n",
    "import os\n",
    "import random\n",
    "import re\n",
    "import sys\n",
    "\n",
    "from datetime import datetime\n",
    "def time_delta(t1, t2):\n",
    "    dt1= datetime.strptime(t1, '%a %d %b %Y %H:%M:%S %z')\n",
    "    dt2= datetime.strptime(t2, '%a %d %b %Y %H:%M:%S %z')\n",
    "    difference=abs((dt1 - dt2).total_seconds()) \n",
    "    return int(difference)"
   ]
  },
  {
   "cell_type": "code",
   "execution_count": null,
   "id": "c2f788f1-fa46-4d3e-999e-3d46cf9a2ba1",
   "metadata": {},
   "outputs": [],
   "source": [
    "#Exceptions\n",
    "T=int(input())\n",
    "for i in range(T):\n",
    "    a,b= input().split()\n",
    "    try:\n",
    "          print(int(a)//int(b))\n",
    "    except ValueError as e:\n",
    "           print(\"Error Code:\",e)\n",
    "    except ZeroDivisionError as e:\n",
    "           print(\"Error Code:\",e)    "
   ]
  },
  {
   "cell_type": "code",
   "execution_count": null,
   "id": "f3fb7ff8-ec86-4bd8-910b-49e9378bbcd7",
   "metadata": {},
   "outputs": [],
   "source": [
    "#Zipped!\n",
    "N,X=input().split()\n",
    "subjects = []\n",
    "\n",
    "for i in range(int(X)):\n",
    "    subjects.append(list(map(float, input().split())))\n",
    "\n",
    "for grade in zip(*subjects):\n",
    "    print(sum(grade)/int(X))"
   ]
  },
  {
   "cell_type": "code",
   "execution_count": null,
   "id": "9eb4b07b-48ae-4e5c-8744-4ec4a2d6a190",
   "metadata": {},
   "outputs": [],
   "source": [
    "#Athlete Sort\n",
    "import math\n",
    "import os\n",
    "import random\n",
    "import re\n",
    "import sys\n",
    "\n",
    "if __name__ == '__main__':\n",
    "    nm = input().split()\n",
    "\n",
    "    n = int(nm[0])\n",
    "\n",
    "    m = int(nm[1])\n",
    "\n",
    "    arr = []\n",
    "\n",
    "    for _ in range(n):\n",
    "        arr.append(list(map(int, input().rstrip().split())))\n",
    "\n",
    "    k = int(input())\n",
    "    arr.sort(key=lambda x: x[k])\n",
    "    for i in arr:\n",
    "        print(*i)\n",
    "    "
   ]
  },
  {
   "cell_type": "code",
   "execution_count": null,
   "id": "7a56287f-c06b-4fd6-85fd-ebe235389484",
   "metadata": {},
   "outputs": [],
   "source": [
    "#ginortS\n",
    "S=input()\n",
    "upper= sorted([x for x in S if x.isupper()])\n",
    "lower = sorted([x for x in S if x.islower()])\n",
    "even= sorted([x for x in S if x.isdigit() if int(x) % 2 == 0])\n",
    "odd = sorted([x for x in S if x.isdigit() if int(x) % 2 == 1])\n",
    "print(\"\".join(lower+upper+odd+even))"
   ]
  },
  {
   "cell_type": "code",
   "execution_count": null,
   "id": "e60e6a9c-3087-453e-91cf-295b846b8068",
   "metadata": {},
   "outputs": [],
   "source": [
    "#Map and Lambda Function\n",
    "cube = lambda x: x**3 # complete the lambda function \n",
    "\n",
    "def fibonacci(n):\n",
    "    # return a list of fibonacci numbers\n",
    "    if n == 0:\n",
    "        return []\n",
    "    if n == 1:\n",
    "        return [0]\n",
    "    result = [0, 1]\n",
    "    for i in range(2, n):\n",
    "        N = result[-1] + result[-2]\n",
    "        result.append(N)\n",
    "    return result\n",
    "    "
   ]
  },
  {
   "cell_type": "code",
   "execution_count": null,
   "id": "7662d870-c366-4202-be37-fafb8998a0dd",
   "metadata": {},
   "outputs": [],
   "source": [
    "#Detect Floating Point Number\n",
    "T=int(input())\n",
    "for i in range(T): \n",
    "    N = input() \n",
    "    if 'O' in N: \n",
    "        print('False') \n",
    "    elif '.' in N: \n",
    "        try: \n",
    "            float(N) \n",
    "            print('True') \n",
    "        except: \n",
    "               print('False') \n",
    "    else: print('False')\n"
   ]
  },
  {
   "cell_type": "code",
   "execution_count": null,
   "id": "9a0852b0-ac40-491a-a51c-000ee085d09c",
   "metadata": {},
   "outputs": [],
   "source": [
    "#Re.split()\n",
    "regex_pattern = r\"[,.]\"\t# Do not delete 'r'.\n",
    "\n",
    "import re\n",
    "print(\"\\n\".join(re.split(regex_pattern, input())))"
   ]
  },
  {
   "cell_type": "code",
   "execution_count": null,
   "id": "27bf5aba-8c0f-475b-9a2e-842345469e76",
   "metadata": {},
   "outputs": [],
   "source": [
    "#Group(), Groups() & Groupdict()\n",
    "import re\n",
    "S=input()\n",
    "pattern = r'([a-zA-Z0-9])\\1'\n",
    "m = re.search(pattern, S)\n",
    "if m:\n",
    "    print(m.group(1)) \n",
    "else:\n",
    "    print(-1) "
   ]
  },
  {
   "cell_type": "code",
   "execution_count": null,
   "id": "66f54c44-b808-49ae-acb8-b7ab8a8ae8d0",
   "metadata": {},
   "outputs": [],
   "source": [
    "#Re.findall() & Re.finditer()\n",
    "import re\n",
    "S=input()\n",
    "vowels = \"AEIOUaeiou\"\n",
    "consonants = \"QWRTYPSDFGHJKLZXCVBNMqwrtypsdfghjklzxcvbnm\"\n",
    "pattern = rf'([{vowels}]{{2,}})(?=[{consonants}])'\n",
    "result = re.findall(pattern,S)\n",
    "if result == []:\n",
    "    print (-1)\n",
    "else:\n",
    "    for i in result:\n",
    "        print(i)"
   ]
  },
  {
   "cell_type": "code",
   "execution_count": null,
   "id": "925c06f1-1109-4db3-a75f-5be657f6c89a",
   "metadata": {},
   "outputs": [],
   "source": [
    "#Re.start() & Re.end()\n",
    "import re\n",
    "S=input()\n",
    "k = input()\n",
    "\n",
    "pattern = re.compile(f'(?=({k}))')\n",
    "result = list(pattern.finditer(S))\n",
    "\n",
    "if len(result)>1:\n",
    "   for m in result:\n",
    "        print((m.start(1), m.end(1)-1))\n",
    "else:\n",
    "    print((-1,-1))"
   ]
  },
  {
   "cell_type": "code",
   "execution_count": null,
   "id": "fc1e730e-1a90-4520-8219-2e4083e54a3f",
   "metadata": {},
   "outputs": [],
   "source": [
    "#Regex Substitution\n",
    "import re\n",
    "N=int(input())\n",
    "for n in range(N):\n",
    "    i = input()\n",
    "    while \" && \" in i:\n",
    "        i = i.replace(\" && \", \" and \")\n",
    "    while \" || \" in i:\n",
    "        i = i.replace(\" || \", \" or \")\n",
    "    print(i)"
   ]
  },
  {
   "cell_type": "code",
   "execution_count": null,
   "id": "19404a87-96c4-4c23-a2c7-30ef7ebd7c7f",
   "metadata": {},
   "outputs": [],
   "source": [
    "#Validating Roman Numerals\n",
    "regex_pattern = r\"M{0,3}(CM|CD|D?C{0,3})(XC|XL|L?X{0,3})(IX|IV|V?I{0,3})$\"\t# Do not delete 'r'.\n",
    "\n",
    "import re\n",
    "print(str(bool(re.match(regex_pattern, input()))))"
   ]
  },
  {
   "cell_type": "code",
   "execution_count": null,
   "id": "75b22e77-7fed-427f-aeec-be0e8d4cb441",
   "metadata": {},
   "outputs": [],
   "source": [
    "#Validating phone numbers\n",
    "import re\n",
    "N=int(input())\n",
    "pattern=r'^[789]\\d{9}$'\n",
    "for i in range(N):\n",
    "    number = input().strip() \n",
    "    if re.match(pattern, number):\n",
    "        print(\"YES\")\n",
    "    else:\n",
    "        print(\"NO\")"
   ]
  },
  {
   "cell_type": "code",
   "execution_count": null,
   "id": "71fd4117-199d-46b2-829e-1dafb43986f7",
   "metadata": {},
   "outputs": [],
   "source": [
    "#Validating and Parsing Email Addresses\n",
    "import re\n",
    "import email.utils\n",
    "n = int(input())\n",
    "pattern = r'^[a-z][\\w\\-_.]*[@][a-z]+[.][a-z]{1,3}$'\n",
    "for i in range(n):\n",
    "    name, address = email.utils.parseaddr(input())\n",
    "    if re.match(pattern,address):\n",
    "        print(email.utils.formataddr((name, address)))\n",
    "    else:\n",
    "        continue"
   ]
  },
  {
   "cell_type": "code",
   "execution_count": null,
   "id": "1aa7e7a8-c095-409d-ad8c-788f8de7df77",
   "metadata": {},
   "outputs": [],
   "source": [
    "#Hex Color Code\n",
    "import re\n",
    "N=int(input())\n",
    "for i in range(N):\n",
    "    m = re.findall(r'#[0-9A-Fa-f]{6}(?=\\S)|#[0-9A-Fa-f]{3}(?=\\S)',input())\n",
    "    if m:\n",
    "        for i in range(len(m)):\n",
    "            print(m[i])"
   ]
  },
  {
   "cell_type": "code",
   "execution_count": null,
   "id": "9f1567d9-0d4f-4438-9c57-45be1bbb8939",
   "metadata": {},
   "outputs": [],
   "source": [
    "#HTML Parser - Part 1\n",
    "from html.parser import HTMLParser\n",
    "\n",
    "class MyParser(HTMLParser):\n",
    "    def handle_starttag(self, tag, attrs):\n",
    "        print(f'Start : {tag}')\n",
    "        self.print_attrs(attrs)\n",
    "        \n",
    "    def handle_endtag(self, tag):\n",
    "        print(f'End   : {tag}')\n",
    "\n",
    "    def handle_startendtag(self, tag, attrs):\n",
    "        print(f'Empty : {tag}')\n",
    "        self.print_attrs(attrs)\n",
    "\n",
    "    def print_attrs(self, attrs):\n",
    "        for name , value in attrs:\n",
    "            print(f'-> {name} > {value}')\n",
    "\n",
    "parser = MyParser()\n",
    "N=int(input())\n",
    "parser.feed(''.join(input() for i in range(N)))"
   ]
  },
  {
   "cell_type": "code",
   "execution_count": null,
   "id": "5751bda9-8c5e-44db-b018-9ebfa0787491",
   "metadata": {},
   "outputs": [],
   "source": [
    "#HTML Parser - Part 2\n",
    "from html.parser import HTMLParser\n",
    "\n",
    "class MyHTMLParser(HTMLParser):\n",
    "    def handle_comment(self, data):\n",
    "        if '\\n' in data:\n",
    "            print(\">>> Multi-line Comment\")\n",
    "            print(data)\n",
    "        else:\n",
    "            print(\">>> Single-line Comment\")\n",
    "            print(data)\n",
    "            \n",
    "    def handle_data(self, data):\n",
    "        if '\\n' not in data:\n",
    "            print(\">>> Data\")\n",
    "            print(data)\n",
    "  \n",
    "  \n",
    "html = \"\"       \n",
    "for i in range(int(input())):\n",
    "    html += input().rstrip()\n",
    "    html += '\\n'\n",
    "    \n",
    "parser = MyHTMLParser()\n",
    "parser.feed(html)\n",
    "parser.close()\n"
   ]
  },
  {
   "cell_type": "code",
   "execution_count": null,
   "id": "e6f0cba6-402b-443e-9a4e-85a3a7ecf866",
   "metadata": {},
   "outputs": [],
   "source": [
    "#Detect HTML Tags, Attributes and Attribute Values\n",
    "from html.parser import HTMLParser\n",
    "\n",
    "class MyHTMLParser(HTMLParser):\n",
    "    def handle_starttag(self, tag, attrs):\n",
    "        print(tag)\n",
    "        self.print_attrs(attrs)\n",
    "\n",
    "    def print_attrs(self, attrs):\n",
    "        for item in attrs:\n",
    "            name , value = item\n",
    "            print(f'-> {name} > {value}')\n",
    "\n",
    "my_parser  = MyHTMLParser()\n",
    "N=int(input())\n",
    "html = \"\".join(input() for i in range(N))\n",
    "my_parser.feed(html)"
   ]
  },
  {
   "cell_type": "code",
   "execution_count": null,
   "id": "e8f47e24-399c-4596-8507-227daa493c5b",
   "metadata": {},
   "outputs": [],
   "source": [
    "#Validating UID\n",
    "import re\n",
    "pattern = r'^(?=(.*[A-Z]){2})(?=(.*\\d){3})(?!.*(.).*\\3).{10}$'\n",
    "T=int(input())\n",
    "for i in range(T):\n",
    "    m = re.match(pattern, input())\n",
    "    if m:\n",
    "        print('Valid')\n",
    "    else:\n",
    "        print('Invalid')"
   ]
  },
  {
   "cell_type": "code",
   "execution_count": null,
   "id": "694714a1-4192-4129-9af9-80bd863832e3",
   "metadata": {},
   "outputs": [],
   "source": [
    "#Validating Credit Card Numbers\n",
    "import re\n",
    "N = int(input())\n",
    "pattern_1 =  r\"^[4-6]\\d{3}(-?\\d{4}){3}$\"\n",
    "pattern_2 =  r\"(\\d)(-?\\1){3,}\"\n",
    "def is_valid(credit_card):\n",
    "    return bool(re.match(pattern_1,credit_card))\n",
    "    \n",
    "def is_invalid(credit_card):\n",
    "    return re.findall(pattern_2,credit_card)\n",
    "for i in range(N):\n",
    "    credit_card = input()\n",
    "    if is_valid(credit_card) and  len(is_invalid(credit_card))==0:\n",
    "        print(\"Valid\")\n",
    "    else:\n",
    "        print(\"Invalid\")"
   ]
  },
  {
   "cell_type": "code",
   "execution_count": null,
   "id": "36c9462c-7ade-44b9-ad25-b9994232072d",
   "metadata": {},
   "outputs": [],
   "source": [
    "#Validating Postal Codes\n",
    "regex_integer_in_range = r\"^[0-9]{6}$\"\n",
    "regex_alternating_repetitive_digit_pair = r\"([0-9]{1})(?=[0-9]{1}\\1)\"\n",
    "\n",
    "import re\n",
    "P = input()\n",
    "\n",
    "print (bool(re.match(regex_integer_in_range, P)) \n",
    "and len(re.findall(regex_alternating_repetitive_digit_pair, P)) < 2)"
   ]
  },
  {
   "cell_type": "code",
   "execution_count": null,
   "id": "df9ec914-8948-457d-929a-fbc252f82020",
   "metadata": {},
   "outputs": [],
   "source": [
    "#Matrix Script\n",
    "import math\n",
    "import os\n",
    "import random\n",
    "import re\n",
    "import sys\n",
    "\n",
    "first_multiple_input = input().rstrip().split()\n",
    "\n",
    "n = int(first_multiple_input[0])\n",
    "\n",
    "m = int(first_multiple_input[1])\n",
    "\n",
    "matrix = []\n",
    "\n",
    "for _ in range(n):\n",
    "    matrix_item = input()\n",
    "    matrix.append(matrix_item)\n",
    "print(re.sub(r'(?<=[A-Za-z0-9])([ !@#$%&]+)(?=[A-Za-z0-9])',' ', ''.join(s[i] \n",
    "      for i in range(m) for s in matrix)))"
   ]
  },
  {
   "cell_type": "code",
   "execution_count": null,
   "id": "f4f33a44-8526-4cf0-8be2-2f84151e4eff",
   "metadata": {},
   "outputs": [],
   "source": [
    "#XML 1 - Find the Score\n",
    "import sys\n",
    "import xml.etree.ElementTree as etree\n",
    "\n",
    "def get_attr_number(node):\n",
    "    attrs = len(node.attrib)\n",
    "    if len(node) == 0:\n",
    "        return attrs\n",
    "    return attrs + sum(get_attr_number(child) for child in node)\n",
    "    \n",
    "\n",
    "if __name__ == '__main__':\n",
    "    sys.stdin.readline()\n",
    "    xml = sys.stdin.read()\n",
    "    tree = etree.ElementTree(etree.fromstring(xml))\n",
    "    root = tree.getroot()\n",
    "    print(get_attr_number(root))\n",
    "    \n"
   ]
  },
  {
   "cell_type": "code",
   "execution_count": null,
   "id": "e3cb5aa6-725a-4339-aaf1-08908ea1de94",
   "metadata": {},
   "outputs": [],
   "source": [
    "#XML2 - Find the Maximum Depth\n",
    "import xml.etree.ElementTree as etree\n",
    "\n",
    "maxdepth = 0\n",
    "def depth(elem, level):\n",
    "    global maxdepth\n",
    "    level += 1\n",
    "    for child in elem:\n",
    "        depth(child, level)\n",
    "    maxdepth = max(maxdepth, level)\n",
    "\n",
    "if __name__ == '__main__':\n",
    "    n = int(input())\n",
    "    xml = \"\"\n",
    "    for i in range(n):\n",
    "        xml =  xml + input() + \"\\n\"\n",
    "    tree = etree.ElementTree(etree.fromstring(xml))\n",
    "    depth(tree.getroot(), -1)\n",
    "    print(maxdepth)"
   ]
  },
  {
   "cell_type": "code",
   "execution_count": null,
   "id": "dc58dc07-ac73-4aff-8ca0-c3e86d7a92c8",
   "metadata": {},
   "outputs": [],
   "source": [
    "#Standardize Mobile Number Using Decorators\n",
    "def wrapper(f):\n",
    "    def fun(l):\n",
    "        l = ['+91 '+num[-10:-5]+' '+num[-5:] for num in l]\n",
    "        return f(l)\n",
    "    return fun"
   ]
  },
  {
   "cell_type": "code",
   "execution_count": null,
   "id": "27749f4f-1a1d-44ed-a6c1-ae15f847b2d4",
   "metadata": {},
   "outputs": [],
   "source": [
    "#Decorators 2 - Name Directory\n",
    "def person_lister(f):\n",
    "    def inner(people):\n",
    "        sort = sorted(people, key=lambda x: int(x[2]))\n",
    "        return [f(x) for x in sort]\n",
    "    return inner"
   ]
  },
  {
   "cell_type": "code",
   "execution_count": null,
   "id": "b5054389-8296-4e43-a42c-1801111904ea",
   "metadata": {},
   "outputs": [],
   "source": [
    "#Arrays\n",
    "def arrays(arr):\n",
    "    a=numpy.array(arr,float)\n",
    "    return a[::-1]\n"
   ]
  },
  {
   "cell_type": "code",
   "execution_count": null,
   "id": "01b931ab-419d-44e7-9d2c-cbb84fbe8afe",
   "metadata": {},
   "outputs": [],
   "source": [
    "#Shape and Reshape\n",
    "import numpy as np\n",
    "y = input().split() \n",
    "x = np.array(y,int)\n",
    "x = x.reshape(3,3)\n",
    "print(x)\n"
   ]
  },
  {
   "cell_type": "code",
   "execution_count": null,
   "id": "4a63ab50-d10f-4623-854a-aa6838df41fd",
   "metadata": {},
   "outputs": [],
   "source": [
    "#Transpose and Flatten\n",
    "import numpy as np\n",
    "N,M = list(map(int,input().split()))\n",
    "NM = np.array([list(map(int,input().split())) for i in range(N)])\n",
    "print(np.transpose(NM))\n",
    "print(NM.flatten())"
   ]
  },
  {
   "cell_type": "code",
   "execution_count": null,
   "id": "bed57500-5887-4667-a8d7-a001d25501fd",
   "metadata": {},
   "outputs": [],
   "source": [
    "#Concatenate\n",
    "import numpy as np\n",
    "n,m,P = map(int, input().split())\n",
    "N = np.array([list(map(int, input().split())) for i in range(n)])\n",
    "M = np.array([list(map(int, input().split())) for i in range(m)])\n",
    "\n",
    "print(np.concatenate((N, M)))"
   ]
  },
  {
   "cell_type": "code",
   "execution_count": null,
   "id": "96413cf4-1aae-44cb-aa26-2e273ede0943",
   "metadata": {},
   "outputs": [],
   "source": [
    "#Zeros and Ones\n",
    "import numpy as np\n",
    "l = list(map(int, input().split()))\n",
    "print(np.zeros(l,dtype=int))\n",
    "print(np.ones(l,dtype=int))"
   ]
  },
  {
   "cell_type": "code",
   "execution_count": null,
   "id": "49d38f67-aeaa-4c8c-8422-c12699c0b59e",
   "metadata": {},
   "outputs": [],
   "source": [
    "#Eye and Identity\n",
    "import numpy as np\n",
    "np.set_printoptions(legacy='1.13')\n",
    "N,M=map(int,input().split())\n",
    "print(np.eye(N,M))"
   ]
  },
  {
   "cell_type": "code",
   "execution_count": null,
   "id": "860cbb2f-0977-46bb-a165-09a0685a1b04",
   "metadata": {},
   "outputs": [],
   "source": [
    "#Array Mathematics\n",
    "import numpy as np\n",
    "M, N = map(int, input().split())\n",
    "A = np.array([[x for x in input().split()] for i in range(M)], int)\n",
    "B = np.array([[x for x in input().split()] for i in range(M)], int)\n",
    "print(A+B)\n",
    "print(A-B) \n",
    "print(A*B)\n",
    "print(A//B)\n",
    "print(A%B)\n",
    "print(A**B)"
   ]
  },
  {
   "cell_type": "code",
   "execution_count": null,
   "id": "3f75516e-5a11-43fe-8810-9520c6b153f7",
   "metadata": {},
   "outputs": [],
   "source": [
    "#Floor, Ceil and Rint\n",
    "import numpy as np\n",
    "np.set_printoptions(legacy='1.13')\n",
    "A=list(map(float,input().split())) \n",
    "arr=np.array(A) \n",
    "print(np.floor(arr))\n",
    "print(np.ceil(arr)) \n",
    "print(np.rint(arr))"
   ]
  },
  {
   "cell_type": "code",
   "execution_count": null,
   "id": "cb0bbc0d-a4f2-421f-9254-17fbf68ae5be",
   "metadata": {},
   "outputs": [],
   "source": [
    "#Sum and Prod\n",
    "import numpy as np\n",
    "N, M = map(int, input().split())\n",
    "A = np.array([list(map(int, input().split())) for i in range(N)])\n",
    "print(np.prod(np.sum(A, axis=0)))"
   ]
  },
  {
   "cell_type": "code",
   "execution_count": null,
   "id": "1e8fc463-ba6c-45cf-a4a2-87e2d5a8f86f",
   "metadata": {},
   "outputs": [],
   "source": [
    "#Min and Max\n",
    "import numpy as np\n",
    "N,M=map(int,input().split())\n",
    "arr = np.array([input().split() for i in range(N)], int)\n",
    "print(np.max(np.min(arr,axis=1),axis= None))"
   ]
  },
  {
   "cell_type": "code",
   "execution_count": null,
   "id": "b1e101f2-a208-49e0-9c98-a55f73648d9b",
   "metadata": {},
   "outputs": [],
   "source": [
    "#Mean, Var, and Std\n",
    "import numpy as np\n",
    "N, M = map(int, input().split()) \n",
    "A = np.array([list(map(int, input().split())) for i in range(N)]) \n",
    "print(np.mean(A,axis=1))\n",
    "print(np.var(A,axis=0))\n",
    "print(round(np.std(A), 11))"
   ]
  },
  {
   "cell_type": "code",
   "execution_count": null,
   "id": "5d22e55e-67e7-4645-b569-04159ab9bb19",
   "metadata": {},
   "outputs": [],
   "source": [
    "#Dot and Cross\n",
    "import numpy as np\n",
    "N = int(input())\n",
    "A = np.array([list(map(int, input().split())) for i in range(N)])\n",
    "B = np.array([list(map(int, input().split())) for i in range(N)])\n",
    "product = np.matmul(A, B)\n",
    "print(product)"
   ]
  },
  {
   "cell_type": "code",
   "execution_count": null,
   "id": "3f6d7153-476e-453d-bf97-509f7b9b59ba",
   "metadata": {},
   "outputs": [],
   "source": [
    "#Inner and Outer\n",
    "import numpy as np\n",
    "A = np.array(list(map(int, input().split())))\n",
    "B = np.array(list(map(int, input().split())))\n",
    "print(np.inner(A, B))\n",
    "print(np.outer(A, B))"
   ]
  },
  {
   "cell_type": "code",
   "execution_count": null,
   "id": "2536db57-2625-480f-948e-72560a7c57b9",
   "metadata": {},
   "outputs": [],
   "source": [
    "#Polynomials\n",
    "import numpy as np\n",
    "P = list(map(float,input().split()))\n",
    "x = int(input())\n",
    "arr = np.polyval(P,x)\n",
    "print(arr)"
   ]
  },
  {
   "cell_type": "code",
   "execution_count": null,
   "id": "e19225c2-cb76-4844-8ffc-ee765702dca6",
   "metadata": {},
   "outputs": [],
   "source": [
    "#Linear Algebra\n",
    "import numpy as np\n",
    "N = int(input())\n",
    "A = np.array([list(map(float, input().split())) for i in range(N)])\n",
    "rounded = round(np.linalg.det(A),2)\n",
    "print(rounded)"
   ]
  }
 ],
 "metadata": {
  "kernelspec": {
   "display_name": "Python 3 (ipykernel)",
   "language": "python",
   "name": "python3"
  },
  "language_info": {
   "codemirror_mode": {
    "name": "ipython",
    "version": 3
   },
   "file_extension": ".py",
   "mimetype": "text/x-python",
   "name": "python",
   "nbconvert_exporter": "python",
   "pygments_lexer": "ipython3",
   "version": "3.12.4"
  }
 },
 "nbformat": 4,
 "nbformat_minor": 5
}
